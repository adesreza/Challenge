{
 "cells": [
  {
   "cell_type": "code",
   "execution_count": 1,
   "id": "2616c8fc-be37-4ae3-a215-21174ff67bcf",
   "metadata": {},
   "outputs": [],
   "source": [
    "import sqlite3\n",
    "import pandas as pd"
   ]
  },
  {
   "cell_type": "markdown",
   "id": "5aeadfbf-6599-4080-afcd-ee2769521c49",
   "metadata": {},
   "source": [
    "## Connect"
   ]
  },
  {
   "cell_type": "code",
   "execution_count": 57,
   "id": "73acb5b0-6036-4f2b-a1a5-17ad19a59712",
   "metadata": {},
   "outputs": [
    {
     "name": "stdout",
     "output_type": "stream",
     "text": [
      "open\n"
     ]
    }
   ],
   "source": [
    "conn = sqlite3.connect(\"Text_Processing.db\")\n",
    "print (\"open\")"
   ]
  },
  {
   "cell_type": "code",
   "execution_count": 2,
   "id": "f43f2081-f90e-4ef4-8d5a-352181990133",
   "metadata": {},
   "outputs": [
    {
     "name": "stdout",
     "output_type": "stream",
     "text": [
      "opened\n"
     ]
    }
   ],
   "source": [
    "conn = sqlite3.connect(\"Text_Cleaning.db\")\n",
    "print (\"opened\")"
   ]
  },
  {
   "cell_type": "markdown",
   "id": "01711a03-7f3a-4089-bf6e-d6c9ab334fa7",
   "metadata": {},
   "source": [
    "## Create Table"
   ]
  },
  {
   "cell_type": "code",
   "execution_count": 3,
   "id": "bf3ec533-6a52-4e78-9648-6034da6649b3",
   "metadata": {},
   "outputs": [
    {
     "data": {
      "text/plain": [
       "<sqlite3.Cursor at 0x28da295d140>"
      ]
     },
     "execution_count": 3,
     "metadata": {},
     "output_type": "execute_result"
    }
   ],
   "source": [
    "conn.execute('''\n",
    "    CREATE TABLE Tweet\t(\n",
    "    \tInput_Text varchar (255)\n",
    "        ); \n",
    "''')"
   ]
  },
  {
   "cell_type": "code",
   "execution_count": 4,
   "id": "a56cc11a-4777-48b8-9dec-1e51f188e8df",
   "metadata": {},
   "outputs": [
    {
     "data": {
      "text/plain": [
       "<sqlite3.Cursor at 0x28da295f1c0>"
      ]
     },
     "execution_count": 4,
     "metadata": {},
     "output_type": "execute_result"
    }
   ],
   "source": [
    "conn.execute('''\n",
    "    CREATE TABLE Tweet_Clear\t(\n",
    "    \tOutput_Text varchar (255)\n",
    "        ); \n",
    "''')"
   ]
  },
  {
   "cell_type": "code",
   "execution_count": 5,
   "id": "bd021311-9247-43a0-a52c-ba4700b23886",
   "metadata": {},
   "outputs": [
    {
     "data": {
      "text/plain": [
       "<sqlite3.Cursor at 0x28da295cfc0>"
      ]
     },
     "execution_count": 5,
     "metadata": {},
     "output_type": "execute_result"
    }
   ],
   "source": [
    "conn.execute('''\n",
    "    CREATE TABLE Tweet_CSV\t(\n",
    "    \tTweet varchar (255)\n",
    "        ); \n",
    "''')"
   ]
  },
  {
   "cell_type": "code",
   "execution_count": 8,
   "id": "8ba579fd-8a1a-4e93-8c0e-d2f03030cb28",
   "metadata": {},
   "outputs": [
    {
     "data": {
      "text/plain": [
       "<sqlite3.Cursor at 0x28da3ed0ec0>"
      ]
     },
     "execution_count": 8,
     "metadata": {},
     "output_type": "execute_result"
    }
   ],
   "source": [
    "conn.execute('''\n",
    "    CREATE TABLE Tweet_CSV_Clear\t(\n",
    "    \tTweet varchar (255), Tweet_Clear varchar (255)\n",
    "        ); \n",
    "''')"
   ]
  },
  {
   "cell_type": "code",
   "execution_count": 21,
   "id": "332fe45b-35d7-4551-bd93-1bb8946c0d95",
   "metadata": {},
   "outputs": [
    {
     "ename": "OperationalError",
     "evalue": "table Tweet_CSV_Token already exists",
     "output_type": "error",
     "traceback": [
      "\u001b[1;31m---------------------------------------------------------------------------\u001b[0m",
      "\u001b[1;31mOperationalError\u001b[0m                          Traceback (most recent call last)",
      "Cell \u001b[1;32mIn[21], line 1\u001b[0m\n\u001b[1;32m----> 1\u001b[0m \u001b[43mconn\u001b[49m\u001b[38;5;241;43m.\u001b[39;49m\u001b[43mexecute\u001b[49m\u001b[43m(\u001b[49m\u001b[38;5;124;43m'''\u001b[39;49m\n\u001b[0;32m      2\u001b[0m \u001b[38;5;124;43m    CREATE TABLE Tweet_CSV_Token\t(\u001b[39;49m\n\u001b[0;32m      3\u001b[0m \u001b[38;5;124;43m    \tTweet varchar (255), Token varchar (255)\u001b[39;49m\n\u001b[0;32m      4\u001b[0m \u001b[38;5;124;43m        ); \u001b[39;49m\n\u001b[0;32m      5\u001b[0m \u001b[38;5;124;43m'''\u001b[39;49m\u001b[43m)\u001b[49m\n",
      "\u001b[1;31mOperationalError\u001b[0m: table Tweet_CSV_Token already exists"
     ]
    }
   ],
   "source": [
    "conn.execute('''\n",
    "    CREATE TABLE Tweet_CSV_Token\t(\n",
    "    \tTweet varchar (255), Token varchar (255)\n",
    "        ); \n",
    "''')"
   ]
  },
  {
   "cell_type": "code",
   "execution_count": 27,
   "id": "60f23b08-9877-4b76-ab52-6a5f2058b4d4",
   "metadata": {},
   "outputs": [
    {
     "data": {
      "text/plain": [
       "<sqlite3.Cursor at 0x28da5296840>"
      ]
     },
     "execution_count": 27,
     "metadata": {},
     "output_type": "execute_result"
    }
   ],
   "source": [
    "conn.execute('''\n",
    "    CREATE TABLE Tweet_CSV_Normal\t(\n",
    "    \tTweet varchar (255), Normalisasi varchar (255)\n",
    "        ); \n",
    "''')"
   ]
  },
  {
   "cell_type": "markdown",
   "id": "3bee0b7e-e58a-41f3-b794-744731128a38",
   "metadata": {},
   "source": [
    "## Select"
   ]
  },
  {
   "cell_type": "code",
   "execution_count": 71,
   "id": "b3376232-4eb9-491c-9b31-ceb9cf26e944",
   "metadata": {},
   "outputs": [
    {
     "data": {
      "text/html": [
       "<div>\n",
       "<style scoped>\n",
       "    .dataframe tbody tr th:only-of-type {\n",
       "        vertical-align: middle;\n",
       "    }\n",
       "\n",
       "    .dataframe tbody tr th {\n",
       "        vertical-align: top;\n",
       "    }\n",
       "\n",
       "    .dataframe thead th {\n",
       "        text-align: right;\n",
       "    }\n",
       "</style>\n",
       "<table border=\"1\" class=\"dataframe\">\n",
       "  <thead>\n",
       "    <tr style=\"text-align: right;\">\n",
       "      <th></th>\n",
       "      <th>Input_Text</th>\n",
       "    </tr>\n",
       "  </thead>\n",
       "  <tbody>\n",
       "  </tbody>\n",
       "</table>\n",
       "</div>"
      ],
      "text/plain": [
       "Empty DataFrame\n",
       "Columns: [Input_Text]\n",
       "Index: []"
      ]
     },
     "execution_count": 71,
     "metadata": {},
     "output_type": "execute_result"
    }
   ],
   "source": [
    "Tweet = pd.read_sql_query('SELECT * FROM Tweet',conn)\n",
    "Tweet.tail()"
   ]
  },
  {
   "cell_type": "code",
   "execution_count": 72,
   "id": "725869ae-e4e1-4ed7-9a62-170ca9e60c0b",
   "metadata": {},
   "outputs": [
    {
     "data": {
      "text/html": [
       "<div>\n",
       "<style scoped>\n",
       "    .dataframe tbody tr th:only-of-type {\n",
       "        vertical-align: middle;\n",
       "    }\n",
       "\n",
       "    .dataframe tbody tr th {\n",
       "        vertical-align: top;\n",
       "    }\n",
       "\n",
       "    .dataframe thead th {\n",
       "        text-align: right;\n",
       "    }\n",
       "</style>\n",
       "<table border=\"1\" class=\"dataframe\">\n",
       "  <thead>\n",
       "    <tr style=\"text-align: right;\">\n",
       "      <th></th>\n",
       "      <th>Output_Text</th>\n",
       "    </tr>\n",
       "  </thead>\n",
       "  <tbody>\n",
       "  </tbody>\n",
       "</table>\n",
       "</div>"
      ],
      "text/plain": [
       "Empty DataFrame\n",
       "Columns: [Output_Text]\n",
       "Index: []"
      ]
     },
     "execution_count": 72,
     "metadata": {},
     "output_type": "execute_result"
    }
   ],
   "source": [
    "Tweet_Clear = pd.read_sql_query('SELECT * FROM Tweet_Clear',conn)\n",
    "Tweet_Clear.tail()"
   ]
  },
  {
   "cell_type": "code",
   "execution_count": 73,
   "id": "2f354f1b-2595-4b9b-9e3b-1704b5e37e7e",
   "metadata": {},
   "outputs": [
    {
     "data": {
      "text/html": [
       "<div>\n",
       "<style scoped>\n",
       "    .dataframe tbody tr th:only-of-type {\n",
       "        vertical-align: middle;\n",
       "    }\n",
       "\n",
       "    .dataframe tbody tr th {\n",
       "        vertical-align: top;\n",
       "    }\n",
       "\n",
       "    .dataframe thead th {\n",
       "        text-align: right;\n",
       "    }\n",
       "</style>\n",
       "<table border=\"1\" class=\"dataframe\">\n",
       "  <thead>\n",
       "    <tr style=\"text-align: right;\">\n",
       "      <th></th>\n",
       "      <th>Tweet</th>\n",
       "    </tr>\n",
       "  </thead>\n",
       "  <tbody>\n",
       "    <tr>\n",
       "      <th>39502</th>\n",
       "      <td>USER jangan asal ngomong ndasmu. congor lu yg ...</td>\n",
       "    </tr>\n",
       "    <tr>\n",
       "      <th>39503</th>\n",
       "      <td>USER Kasur mana enak kunyuk'</td>\n",
       "    </tr>\n",
       "    <tr>\n",
       "      <th>39504</th>\n",
       "      <td>USER Hati hati bisu :( .g\\n\\nlagi bosan huft \\...</td>\n",
       "    </tr>\n",
       "    <tr>\n",
       "      <th>39505</th>\n",
       "      <td>USER USER USER USER Bom yang real mudah terdet...</td>\n",
       "    </tr>\n",
       "    <tr>\n",
       "      <th>39506</th>\n",
       "      <td>USER Mana situ ngasih(\": itu cuma foto ya kuti...</td>\n",
       "    </tr>\n",
       "  </tbody>\n",
       "</table>\n",
       "</div>"
      ],
      "text/plain": [
       "                                                   Tweet\n",
       "39502  USER jangan asal ngomong ndasmu. congor lu yg ...\n",
       "39503                       USER Kasur mana enak kunyuk'\n",
       "39504  USER Hati hati bisu :( .g\\n\\nlagi bosan huft \\...\n",
       "39505  USER USER USER USER Bom yang real mudah terdet...\n",
       "39506  USER Mana situ ngasih(\": itu cuma foto ya kuti..."
      ]
     },
     "execution_count": 73,
     "metadata": {},
     "output_type": "execute_result"
    }
   ],
   "source": [
    "Tweet_CSV = pd.read_sql_query('SELECT * FROM Tweet_CSV',conn)\n",
    "Tweet_CSV.tail()"
   ]
  },
  {
   "cell_type": "code",
   "execution_count": 74,
   "id": "f0054c31-058d-4789-a3a1-f159eae05fe3",
   "metadata": {},
   "outputs": [
    {
     "data": {
      "text/html": [
       "<div>\n",
       "<style scoped>\n",
       "    .dataframe tbody tr th:only-of-type {\n",
       "        vertical-align: middle;\n",
       "    }\n",
       "\n",
       "    .dataframe tbody tr th {\n",
       "        vertical-align: top;\n",
       "    }\n",
       "\n",
       "    .dataframe thead th {\n",
       "        text-align: right;\n",
       "    }\n",
       "</style>\n",
       "<table border=\"1\" class=\"dataframe\">\n",
       "  <thead>\n",
       "    <tr style=\"text-align: right;\">\n",
       "      <th></th>\n",
       "      <th>Tweet</th>\n",
       "      <th>Tweet_Clear</th>\n",
       "    </tr>\n",
       "  </thead>\n",
       "  <tbody>\n",
       "    <tr>\n",
       "      <th>13164</th>\n",
       "      <td>USER jangan asal ngomong ndasmu. congor lu yg ...</td>\n",
       "      <td>jangan asal ngomong ndasmu congor lu yg seka...</td>\n",
       "    </tr>\n",
       "    <tr>\n",
       "      <th>13165</th>\n",
       "      <td>USER Kasur mana enak kunyuk'</td>\n",
       "      <td>kasur mana enak kunyuk</td>\n",
       "    </tr>\n",
       "    <tr>\n",
       "      <th>13166</th>\n",
       "      <td>USER Hati hati bisu :( .g\\n\\nlagi bosan huft \\...</td>\n",
       "      <td>hati hati bisu  g   bosan huft</td>\n",
       "    </tr>\n",
       "    <tr>\n",
       "      <th>13167</th>\n",
       "      <td>USER USER USER USER Bom yang real mudah terdet...</td>\n",
       "      <td>bom yang real mudah terdeteksi bom yan...</td>\n",
       "    </tr>\n",
       "    <tr>\n",
       "      <th>13168</th>\n",
       "      <td>USER Mana situ ngasih(\": itu cuma foto ya kuti...</td>\n",
       "      <td>mana situ ngasih itu cuma foto ya kutil onta</td>\n",
       "    </tr>\n",
       "  </tbody>\n",
       "</table>\n",
       "</div>"
      ],
      "text/plain": [
       "                                                   Tweet  \\\n",
       "13164  USER jangan asal ngomong ndasmu. congor lu yg ...   \n",
       "13165                       USER Kasur mana enak kunyuk'   \n",
       "13166  USER Hati hati bisu :( .g\\n\\nlagi bosan huft \\...   \n",
       "13167  USER USER USER USER Bom yang real mudah terdet...   \n",
       "13168  USER Mana situ ngasih(\": itu cuma foto ya kuti...   \n",
       "\n",
       "                                             Tweet_Clear  \n",
       "13164    jangan asal ngomong ndasmu congor lu yg seka...  \n",
       "13165                             kasur mana enak kunyuk  \n",
       "13166                hati hati bisu  g   bosan huft       \n",
       "13167          bom yang real mudah terdeteksi bom yan...  \n",
       "13168       mana situ ngasih itu cuma foto ya kutil onta  "
      ]
     },
     "execution_count": 74,
     "metadata": {},
     "output_type": "execute_result"
    }
   ],
   "source": [
    "Tweet_CSV_Clear = pd.read_sql_query('SELECT * FROM Tweet_CSV_Clear',conn)\n",
    "Tweet_CSV_Clear.tail()"
   ]
  },
  {
   "cell_type": "code",
   "execution_count": 75,
   "id": "91e346e8-402e-4579-b219-0cb1049e7a2e",
   "metadata": {},
   "outputs": [
    {
     "data": {
      "text/html": [
       "<div>\n",
       "<style scoped>\n",
       "    .dataframe tbody tr th:only-of-type {\n",
       "        vertical-align: middle;\n",
       "    }\n",
       "\n",
       "    .dataframe tbody tr th {\n",
       "        vertical-align: top;\n",
       "    }\n",
       "\n",
       "    .dataframe thead th {\n",
       "        text-align: right;\n",
       "    }\n",
       "</style>\n",
       "<table border=\"1\" class=\"dataframe\">\n",
       "  <thead>\n",
       "    <tr style=\"text-align: right;\">\n",
       "      <th></th>\n",
       "      <th>Tweet</th>\n",
       "      <th>Token</th>\n",
       "    </tr>\n",
       "  </thead>\n",
       "  <tbody>\n",
       "    <tr>\n",
       "      <th>13164</th>\n",
       "      <td>USER jangan asal ngomong ndasmu. congor lu yg ...</td>\n",
       "      <td>jangan asal ngomong ndasmu congor lu yg seka...</td>\n",
       "    </tr>\n",
       "    <tr>\n",
       "      <th>13165</th>\n",
       "      <td>USER Kasur mana enak kunyuk'</td>\n",
       "      <td>kasur mana enak kunyuk</td>\n",
       "    </tr>\n",
       "    <tr>\n",
       "      <th>13166</th>\n",
       "      <td>USER Hati hati bisu :( .g\\n\\nlagi bosan huft \\...</td>\n",
       "      <td>hati hati bisu  g   bosan huft</td>\n",
       "    </tr>\n",
       "    <tr>\n",
       "      <th>13167</th>\n",
       "      <td>USER USER USER USER Bom yang real mudah terdet...</td>\n",
       "      <td>bom yang real mudah terdeteksi bom yan...</td>\n",
       "    </tr>\n",
       "    <tr>\n",
       "      <th>13168</th>\n",
       "      <td>USER Mana situ ngasih(\": itu cuma foto ya kuti...</td>\n",
       "      <td>mana situ ngasih itu cuma foto ya kutil onta</td>\n",
       "    </tr>\n",
       "  </tbody>\n",
       "</table>\n",
       "</div>"
      ],
      "text/plain": [
       "                                                   Tweet  \\\n",
       "13164  USER jangan asal ngomong ndasmu. congor lu yg ...   \n",
       "13165                       USER Kasur mana enak kunyuk'   \n",
       "13166  USER Hati hati bisu :( .g\\n\\nlagi bosan huft \\...   \n",
       "13167  USER USER USER USER Bom yang real mudah terdet...   \n",
       "13168  USER Mana situ ngasih(\": itu cuma foto ya kuti...   \n",
       "\n",
       "                                                   Token  \n",
       "13164    jangan asal ngomong ndasmu congor lu yg seka...  \n",
       "13165                             kasur mana enak kunyuk  \n",
       "13166                hati hati bisu  g   bosan huft       \n",
       "13167          bom yang real mudah terdeteksi bom yan...  \n",
       "13168       mana situ ngasih itu cuma foto ya kutil onta  "
      ]
     },
     "execution_count": 75,
     "metadata": {},
     "output_type": "execute_result"
    }
   ],
   "source": [
    "Tweet_CSV_Token = pd.read_sql_query('SELECT * FROM Tweet_CSV_Token',conn)\n",
    "Tweet_CSV_Token.tail()"
   ]
  },
  {
   "cell_type": "code",
   "execution_count": 76,
   "id": "c82db183-c537-4c7d-a8ff-d691d1a2aa7a",
   "metadata": {},
   "outputs": [
    {
     "data": {
      "text/html": [
       "<div>\n",
       "<style scoped>\n",
       "    .dataframe tbody tr th:only-of-type {\n",
       "        vertical-align: middle;\n",
       "    }\n",
       "\n",
       "    .dataframe tbody tr th {\n",
       "        vertical-align: top;\n",
       "    }\n",
       "\n",
       "    .dataframe thead th {\n",
       "        text-align: right;\n",
       "    }\n",
       "</style>\n",
       "<table border=\"1\" class=\"dataframe\">\n",
       "  <thead>\n",
       "    <tr style=\"text-align: right;\">\n",
       "      <th></th>\n",
       "      <th>Tweet</th>\n",
       "      <th>Normalisasi</th>\n",
       "    </tr>\n",
       "  </thead>\n",
       "  <tbody>\n",
       "    <tr>\n",
       "      <th>13164</th>\n",
       "      <td>USER jangan asal ngomong ndasmu. congor lu yg ...</td>\n",
       "      <td>jangan asal ngomong ndasmu congor lu yg seka...</td>\n",
       "    </tr>\n",
       "    <tr>\n",
       "      <th>13165</th>\n",
       "      <td>USER Kasur mana enak kunyuk'</td>\n",
       "      <td>kasur mana enak kunyuk</td>\n",
       "    </tr>\n",
       "    <tr>\n",
       "      <th>13166</th>\n",
       "      <td>USER Hati hati bisu :( .g\\n\\nlagi bosan huft \\...</td>\n",
       "      <td>hati hati bisu  g   bosan huft</td>\n",
       "    </tr>\n",
       "    <tr>\n",
       "      <th>13167</th>\n",
       "      <td>USER USER USER USER Bom yang real mudah terdet...</td>\n",
       "      <td>bom yang real mudah terdeteksi bom yan...</td>\n",
       "    </tr>\n",
       "    <tr>\n",
       "      <th>13168</th>\n",
       "      <td>USER Mana situ ngasih(\": itu cuma foto ya kuti...</td>\n",
       "      <td>mana situ ngasih itu cuma foto ya kutil onta</td>\n",
       "    </tr>\n",
       "  </tbody>\n",
       "</table>\n",
       "</div>"
      ],
      "text/plain": [
       "                                                   Tweet  \\\n",
       "13164  USER jangan asal ngomong ndasmu. congor lu yg ...   \n",
       "13165                       USER Kasur mana enak kunyuk'   \n",
       "13166  USER Hati hati bisu :( .g\\n\\nlagi bosan huft \\...   \n",
       "13167  USER USER USER USER Bom yang real mudah terdet...   \n",
       "13168  USER Mana situ ngasih(\": itu cuma foto ya kuti...   \n",
       "\n",
       "                                             Normalisasi  \n",
       "13164    jangan asal ngomong ndasmu congor lu yg seka...  \n",
       "13165                             kasur mana enak kunyuk  \n",
       "13166                hati hati bisu  g   bosan huft       \n",
       "13167          bom yang real mudah terdeteksi bom yan...  \n",
       "13168       mana situ ngasih itu cuma foto ya kutil onta  "
      ]
     },
     "execution_count": 76,
     "metadata": {},
     "output_type": "execute_result"
    }
   ],
   "source": [
    "Tweet_CSV_Normal = pd.read_sql_query('SELECT * FROM Tweet_CSV_Normal',conn)\n",
    "Tweet_CSV_Normal.tail()"
   ]
  },
  {
   "cell_type": "markdown",
   "id": "3a4ff195-5c02-46ab-ba63-b51c5dd5e36f",
   "metadata": {},
   "source": [
    "## Delete"
   ]
  },
  {
   "cell_type": "code",
   "execution_count": 77,
   "id": "55e907c7-9f4b-493c-ac22-ae3cd4581da9",
   "metadata": {},
   "outputs": [],
   "source": [
    "conn.execute('DELETE FROM Tweet;',)\n",
    "conn.commit()"
   ]
  },
  {
   "cell_type": "code",
   "execution_count": 78,
   "id": "3a326bad-b982-434e-9249-ddddd067e455",
   "metadata": {},
   "outputs": [],
   "source": [
    "conn.execute('DELETE FROM Tweet_Clear;',)\n",
    "conn.commit()"
   ]
  },
  {
   "cell_type": "code",
   "execution_count": 79,
   "id": "b37b1eed-8b3c-4ff1-8081-b58618bda13b",
   "metadata": {},
   "outputs": [],
   "source": [
    "conn.execute('DELETE FROM Tweet_CSV;',)\n",
    "conn.commit()"
   ]
  },
  {
   "cell_type": "code",
   "execution_count": 80,
   "id": "459ad90d-e655-417a-adbd-e0d503aed571",
   "metadata": {},
   "outputs": [],
   "source": [
    "conn.execute('DELETE FROM Tweet_CSV_Clear;',)\n",
    "conn.commit()"
   ]
  },
  {
   "cell_type": "code",
   "execution_count": 82,
   "id": "4a06f102-c9cc-432a-a4fe-81c5e86d1f3a",
   "metadata": {},
   "outputs": [],
   "source": [
    "conn.execute('DELETE FROM Tweet_CSV_Token;',)\n",
    "conn.commit()"
   ]
  },
  {
   "cell_type": "code",
   "execution_count": 83,
   "id": "805ee04b-e4fc-4d2b-bfdb-9a33a12299f2",
   "metadata": {},
   "outputs": [],
   "source": [
    "conn.execute('DELETE FROM Tweet_CSV_Normal;',)\n",
    "conn.commit()"
   ]
  },
  {
   "cell_type": "markdown",
   "id": "27e84692-86e0-4b5d-98c7-98ffc9b6baf2",
   "metadata": {},
   "source": [
    "## Close"
   ]
  },
  {
   "cell_type": "code",
   "execution_count": 84,
   "id": "3fcf1b48-b1f5-4fb1-ae10-4b98f63e30de",
   "metadata": {},
   "outputs": [],
   "source": [
    "conn.close()"
   ]
  },
  {
   "cell_type": "code",
   "execution_count": null,
   "id": "518f580f-f1ea-497e-9a1c-57ee6e347eed",
   "metadata": {},
   "outputs": [],
   "source": []
  }
 ],
 "metadata": {
  "kernelspec": {
   "display_name": "Python 3 (ipykernel)",
   "language": "python",
   "name": "python3"
  },
  "language_info": {
   "codemirror_mode": {
    "name": "ipython",
    "version": 3
   },
   "file_extension": ".py",
   "mimetype": "text/x-python",
   "name": "python",
   "nbconvert_exporter": "python",
   "pygments_lexer": "ipython3",
   "version": "3.11.5"
  }
 },
 "nbformat": 4,
 "nbformat_minor": 5
}
